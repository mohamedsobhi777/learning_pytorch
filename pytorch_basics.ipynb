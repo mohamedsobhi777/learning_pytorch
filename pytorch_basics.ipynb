{
 "cells": [
  {
   "cell_type": "code",
   "execution_count": 2,
   "id": "f80b77ef",
   "metadata": {},
   "outputs": [],
   "source": [
    "import torch\n",
    "\n"
   ]
  },
  {
   "cell_type": "code",
   "execution_count": 3,
   "id": "cb28ea22",
   "metadata": {},
   "outputs": [],
   "source": [
    "t1 = torch.tensor([1, 2], dtype = torch.float32)\n"
   ]
  },
  {
   "cell_type": "code",
   "execution_count": 4,
   "id": "2624cf7a",
   "metadata": {},
   "outputs": [
    {
     "data": {
      "text/plain": [
       "tensor([0.7000, 2.8000])"
      ]
     },
     "execution_count": 4,
     "metadata": {},
     "output_type": "execute_result"
    }
   ],
   "source": [
    "t1*=t1\n",
    "t1*=.7\n",
    "t1"
   ]
  },
  {
   "cell_type": "code",
   "execution_count": 6,
   "id": "218762f2",
   "metadata": {},
   "outputs": [
    {
     "data": {
      "text/plain": [
       "tensor([[ 0.0348,  1.5530,  0.8858],\n",
       "        [-0.8387,  0.3401,  0.0086]])"
      ]
     },
     "execution_count": 6,
     "metadata": {},
     "output_type": "execute_result"
    }
   ],
   "source": [
    "\n",
    "x = torch.empty(2, 3).normal_(mean =0, std = 1)\n",
    "\n",
    "x\n"
   ]
  },
  {
   "cell_type": "code",
   "execution_count": 10,
   "id": "31666801",
   "metadata": {},
   "outputs": [
    {
     "data": {
      "text/plain": [
       "tensor([[0.8823, 0.0000, 0.0000],\n",
       "        [0.0000, 0.9150, 0.0000],\n",
       "        [0.0000, 0.0000, 0.3829]])"
      ]
     },
     "execution_count": 10,
     "metadata": {},
     "output_type": "execute_result"
    }
   ],
   "source": [
    "\n",
    "torch.manual_seed(42)\n",
    "torch.diag(torch.rand(3))\n"
   ]
  },
  {
   "cell_type": "code",
   "execution_count": 11,
   "id": "c005ff99",
   "metadata": {},
   "outputs": [
    {
     "data": {
      "text/plain": [
       "tensor([2.0000, 0.5000, 2.0000])"
      ]
     },
     "execution_count": 11,
     "metadata": {},
     "output_type": "execute_result"
    }
   ],
   "source": [
    "t1 = torch.tensor([2, 4, 12])\n",
    "t2 = torch.tensor([1, 8, 6])\n",
    "\n",
    "t3 = t1 / t2\n",
    "t3"
   ]
  },
  {
   "cell_type": "code",
   "execution_count": 12,
   "id": "0d43efa5",
   "metadata": {},
   "outputs": [
    {
     "data": {
      "text/plain": [
       "tensor([[ 4,  3],\n",
       "        [10,  7]])"
      ]
     },
     "execution_count": 12,
     "metadata": {},
     "output_type": "execute_result"
    }
   ],
   "source": [
    "t1 = torch.tensor([ [1, 2], [3, 4] ])\n",
    "t2 = torch.tensor([ [2, 1], [1, 1] ])\n",
    "\n",
    "t3 = t1.mm(t2)\n",
    "\n",
    "t3"
   ]
  },
  {
   "cell_type": "code",
   "execution_count": 13,
   "id": "914f59cf",
   "metadata": {},
   "outputs": [
    {
     "data": {
      "text/plain": [
       "tensor([[[1.7644, 1.9331, 1.5801, 1.8002],\n",
       "         [2.4931, 1.5030, 2.0185, 1.4013],\n",
       "         [1.6951, 1.5507, 1.3283, 1.4309]],\n",
       "\n",
       "        [[0.8246, 0.9196, 1.3100, 1.1013],\n",
       "         [1.0488, 1.5650, 0.8555, 1.1995],\n",
       "         [1.7890, 1.6118, 1.7242, 1.4421]],\n",
       "\n",
       "        [[1.8680, 1.2493, 1.3656, 2.3154],\n",
       "         [1.0251, 1.0352, 1.1093, 1.2110],\n",
       "         [1.5991, 0.8159, 0.9095, 1.8163]],\n",
       "\n",
       "        [[1.9894, 1.9803, 1.3295, 1.2066],\n",
       "         [1.9569, 1.6096, 1.2082, 1.2421],\n",
       "         [2.2879, 1.4109, 1.2444, 1.2639]],\n",
       "\n",
       "        [[1.9459, 1.1847, 2.1422, 1.1326],\n",
       "         [1.9270, 1.7609, 2.1262, 1.1161],\n",
       "         [1.8318, 1.4232, 2.0940, 0.8966]],\n",
       "\n",
       "        [[2.0873, 1.8808, 0.6543, 1.6690],\n",
       "         [1.0677, 0.8151, 0.8295, 1.2522],\n",
       "         [0.8734, 0.7369, 0.9821, 0.9984]],\n",
       "\n",
       "        [[1.6201, 0.5881, 0.9546, 1.8227],\n",
       "         [1.2874, 0.4309, 0.6409, 1.4183],\n",
       "         [1.4577, 0.3538, 0.6639, 1.5016]],\n",
       "\n",
       "        [[1.0441, 0.7800, 2.3401, 2.0697],\n",
       "         [0.8293, 0.3834, 1.5513, 1.2466],\n",
       "         [1.1541, 0.5823, 1.9888, 1.9712]],\n",
       "\n",
       "        [[2.0491, 0.9445, 1.1205, 1.8950],\n",
       "         [2.0384, 1.0982, 1.3127, 1.9767],\n",
       "         [1.8373, 1.2267, 0.8832, 2.0365]],\n",
       "\n",
       "        [[1.6997, 1.4277, 0.9657, 1.0359],\n",
       "         [1.4869, 1.0535, 1.1665, 0.6885],\n",
       "         [2.0649, 2.0320, 2.0637, 1.1367]],\n",
       "\n",
       "        [[1.3502, 1.4297, 1.2952, 1.6878],\n",
       "         [1.8406, 1.3158, 1.4655, 1.4728],\n",
       "         [1.3459, 0.9953, 1.2159, 1.3480]],\n",
       "\n",
       "        [[1.2037, 1.3770, 1.9906, 1.8021],\n",
       "         [1.6880, 1.4284, 1.5149, 1.9644],\n",
       "         [1.4578, 1.2988, 2.2329, 2.1809]],\n",
       "\n",
       "        [[1.0946, 1.4866, 1.1588, 1.4353],\n",
       "         [1.7290, 1.6605, 1.0742, 1.4253],\n",
       "         [2.6009, 2.7578, 2.3945, 2.6854]],\n",
       "\n",
       "        [[0.9697, 1.0078, 0.9312, 0.5988],\n",
       "         [1.1729, 1.0942, 0.8648, 0.9009],\n",
       "         [1.2365, 1.2548, 1.2130, 1.3328]],\n",
       "\n",
       "        [[1.4412, 0.7747, 1.6689, 1.7068],\n",
       "         [1.4651, 0.8411, 1.5451, 1.5734],\n",
       "         [1.1520, 0.7495, 1.5226, 1.5023]],\n",
       "\n",
       "        [[1.1370, 0.4441, 1.8108, 1.1737],\n",
       "         [0.4566, 0.5176, 0.9546, 0.7156],\n",
       "         [0.7498, 1.0579, 1.8348, 1.4405]],\n",
       "\n",
       "        [[0.8291, 0.5014, 1.0076, 1.0608],\n",
       "         [1.4720, 0.9926, 1.3449, 1.6650],\n",
       "         [1.8442, 1.2366, 1.1520, 1.8882]],\n",
       "\n",
       "        [[1.9415, 1.6085, 1.2534, 2.3221],\n",
       "         [1.6610, 1.7333, 1.1943, 1.9059],\n",
       "         [1.1705, 1.1829, 0.7756, 1.4974]],\n",
       "\n",
       "        [[0.6899, 1.0642, 0.6744, 1.2140],\n",
       "         [0.9990, 1.0034, 0.9341, 1.6544],\n",
       "         [0.7770, 0.4280, 0.7670, 0.9028]],\n",
       "\n",
       "        [[1.5167, 0.8419, 1.3938, 1.7811],\n",
       "         [2.2538, 1.3477, 1.5530, 2.1332],\n",
       "         [1.4557, 0.9028, 0.7016, 1.4434]],\n",
       "\n",
       "        [[1.8194, 1.0337, 2.0189, 1.3534],\n",
       "         [2.1342, 1.1491, 2.2489, 1.4513],\n",
       "         [2.2945, 1.4511, 2.3087, 1.4637]],\n",
       "\n",
       "        [[2.4078, 0.5859, 2.0283, 2.0240],\n",
       "         [2.2409, 0.7525, 1.7941, 2.0389],\n",
       "         [1.8862, 0.8665, 1.8101, 1.9133]],\n",
       "\n",
       "        [[1.5806, 1.3797, 1.5563, 1.5459],\n",
       "         [0.8580, 1.0350, 0.5612, 0.8420],\n",
       "         [1.5916, 1.3083, 1.9573, 1.6239]],\n",
       "\n",
       "        [[0.9095, 1.0307, 0.6526, 0.9828],\n",
       "         [1.4538, 1.5348, 1.4667, 1.4608],\n",
       "         [1.0459, 1.6734, 1.5229, 1.1629]],\n",
       "\n",
       "        [[1.9706, 1.5905, 2.0939, 1.5013],\n",
       "         [2.5342, 1.5695, 2.5394, 1.5136],\n",
       "         [1.8037, 1.5214, 1.7782, 1.2184]],\n",
       "\n",
       "        [[1.2152, 1.7117, 1.5833, 1.2196],\n",
       "         [1.2645, 1.5409, 1.1366, 0.8158],\n",
       "         [1.5438, 1.6335, 1.0811, 0.9761]],\n",
       "\n",
       "        [[1.7588, 1.8038, 1.8249, 2.3908],\n",
       "         [1.2642, 1.6834, 1.4453, 1.5458],\n",
       "         [1.7131, 1.9056, 1.1226, 2.3667]],\n",
       "\n",
       "        [[2.4913, 2.0007, 1.8753, 2.2671],\n",
       "         [1.7853, 1.5672, 1.7111, 1.9148],\n",
       "         [1.9771, 1.7359, 1.8989, 1.8062]],\n",
       "\n",
       "        [[0.9693, 1.2818, 1.7281, 0.5848],\n",
       "         [0.9502, 1.4167, 1.7166, 0.4556],\n",
       "         [1.7909, 1.9774, 2.3200, 1.1866]],\n",
       "\n",
       "        [[1.7053, 1.2024, 1.4907, 2.3129],\n",
       "         [1.1708, 1.4416, 1.9330, 2.4093],\n",
       "         [1.4768, 1.2095, 1.5555, 1.9581]],\n",
       "\n",
       "        [[2.6858, 1.6201, 2.6381, 2.8141],\n",
       "         [1.4048, 1.1046, 1.6048, 1.6227],\n",
       "         [2.1268, 1.4507, 2.2043, 2.3129]],\n",
       "\n",
       "        [[1.2962, 0.3918, 0.5812, 1.0615],\n",
       "         [0.4865, 0.3192, 0.2119, 0.4477],\n",
       "         [2.1098, 1.1457, 1.3766, 1.5298]]])"
      ]
     },
     "execution_count": 13,
     "metadata": {},
     "output_type": "execute_result"
    }
   ],
   "source": [
    "batch = 32\n",
    "n, m, p = 3, 6, 4\n",
    "\n",
    "t1 = torch.rand((batch, n, m))\n",
    "t2 = torch.rand((batch, m, p))\n",
    "\n",
    "t3 = t1.bmm(t2)\n",
    "\n",
    "t3\n"
   ]
  },
  {
   "cell_type": "markdown",
   "id": "e7cbe179",
   "metadata": {},
   "source": [
    "# Broadcasting"
   ]
  },
  {
   "cell_type": "code",
   "execution_count": 14,
   "id": "71bb6c16",
   "metadata": {},
   "outputs": [
    {
     "data": {
      "text/plain": [
       "tensor([[4., 4., 4., 4.],\n",
       "        [4., 4., 4., 4.],\n",
       "        [4., 4., 4., 4.]])"
      ]
     },
     "execution_count": 14,
     "metadata": {},
     "output_type": "execute_result"
    }
   ],
   "source": [
    "t1 = torch.ones((3, 4))* 5\n",
    "t1 -= torch.ones((1, 4))\n",
    "\n",
    "t1"
   ]
  },
  {
   "cell_type": "code",
   "execution_count": 18,
   "id": "dcb7e5ea",
   "metadata": {},
   "outputs": [
    {
     "name": "stdout",
     "output_type": "stream",
     "text": [
      "tensor([100,  53])\n",
      "tensor([1, 1])\n"
     ]
    }
   ],
   "source": [
    "\n",
    "t = torch.tensor([\n",
    "    [20, 2],\n",
    "    [100, 53]\n",
    "])\n",
    "\n",
    "values, indices = torch.max(t, dim = 0)\n",
    "\n",
    "\n",
    "print(values)\n",
    "print(indices)\n"
   ]
  },
  {
   "cell_type": "code",
   "execution_count": 19,
   "id": "6cbbab2c",
   "metadata": {},
   "outputs": [
    {
     "data": {
      "text/plain": [
       "tensor([[0.6701, 0.0616, 0.4221, 0.4889],\n",
       "        [0.2974, 0.6820, 0.5322, 0.8510],\n",
       "        [0.4556, 0.1844, 0.8533, 0.5698]])"
      ]
     },
     "execution_count": 19,
     "metadata": {},
     "output_type": "execute_result"
    }
   ],
   "source": [
    "t = torch.rand(size=(3, 4))\n",
    "\n",
    "t"
   ]
  },
  {
   "cell_type": "code",
   "execution_count": 20,
   "id": "33edb088",
   "metadata": {},
   "outputs": [
    {
     "name": "stdout",
     "output_type": "stream",
     "text": [
      "tensor([[0.2974, 0.0616, 0.4221, 0.4889],\n",
      "        [0.4556, 0.1844, 0.5322, 0.5698],\n",
      "        [0.6701, 0.6820, 0.8533, 0.8510]])\n",
      "tensor([[1, 0, 0, 0],\n",
      "        [2, 2, 1, 2],\n",
      "        [0, 1, 2, 1]])\n"
     ]
    }
   ],
   "source": [
    "values_y, indices = torch.sort(t, dim = 0, descending = False)\n",
    "print(values_y)\n",
    "print(indices)"
   ]
  },
  {
   "cell_type": "code",
   "execution_count": 21,
   "id": "7b33025f",
   "metadata": {},
   "outputs": [
    {
     "data": {
      "text/plain": [
       "tensor([[0.4000, 0.2000, 0.4000, 0.4000],\n",
       "        [0.2974, 0.4000, 0.4000, 0.4000],\n",
       "        [0.4000, 0.2000, 0.4000, 0.4000]])"
      ]
     },
     "execution_count": 21,
     "metadata": {},
     "output_type": "execute_result"
    }
   ],
   "source": [
    "t.clamp(min=0.2, max=0.4)"
   ]
  },
  {
   "cell_type": "code",
   "execution_count": 23,
   "id": "fa24f1f1",
   "metadata": {},
   "outputs": [
    {
     "data": {
      "text/plain": [
       "tensor(True)"
      ]
     },
     "execution_count": 23,
     "metadata": {},
     "output_type": "execute_result"
    }
   ],
   "source": [
    "torch.any(t>.8)"
   ]
  },
  {
   "cell_type": "code",
   "execution_count": 24,
   "id": "f556a09d",
   "metadata": {},
   "outputs": [
    {
     "data": {
      "text/plain": [
       "5"
      ]
     },
     "execution_count": 24,
     "metadata": {},
     "output_type": "execute_result"
    }
   ],
   "source": [
    "5"
   ]
  },
  {
   "cell_type": "code",
   "execution_count": 163,
   "id": "9d3a4c3b",
   "metadata": {},
   "outputs": [
    {
     "data": {
      "text/plain": [
       "tensor([[0.8654, 0.7074, 0.1055, 0.6454],\n",
       "        [0.9819, 0.1698, 0.5380, 0.6429],\n",
       "        [0.3200, 0.8291, 0.9446, 0.9867]])"
      ]
     },
     "execution_count": 163,
     "metadata": {},
     "output_type": "execute_result"
    }
   ],
   "source": [
    "t"
   ]
  },
  {
   "cell_type": "code",
   "execution_count": 25,
   "id": "68f3dbfa",
   "metadata": {},
   "outputs": [
    {
     "data": {
      "text/plain": [
       "tensor([[1, 0, 0, 0],\n",
       "        [0, 1, 1, 1],\n",
       "        [0, 0, 1, 1]])"
      ]
     },
     "execution_count": 25,
     "metadata": {},
     "output_type": "execute_result"
    }
   ],
   "source": [
    "t2 = torch.where(t>=.5, 1, 0)\n",
    "t2"
   ]
  },
  {
   "cell_type": "code",
   "execution_count": null,
   "id": "e8f68801",
   "metadata": {},
   "outputs": [],
   "source": []
  },
  {
   "cell_type": "code",
   "execution_count": null,
   "id": "63aa529b",
   "metadata": {},
   "outputs": [],
   "source": []
  },
  {
   "cell_type": "code",
   "execution_count": null,
   "id": "e352f57f",
   "metadata": {},
   "outputs": [],
   "source": []
  },
  {
   "cell_type": "code",
   "execution_count": null,
   "id": "f76ddf79",
   "metadata": {},
   "outputs": [],
   "source": []
  }
 ],
 "metadata": {
  "kernelspec": {
   "display_name": "Python 3 (ipykernel)",
   "language": "python",
   "name": "python3"
  },
  "language_info": {
   "codemirror_mode": {
    "name": "ipython",
    "version": 3
   },
   "file_extension": ".py",
   "mimetype": "text/x-python",
   "name": "python",
   "nbconvert_exporter": "python",
   "pygments_lexer": "ipython3",
   "version": "3.10.13"
  }
 },
 "nbformat": 4,
 "nbformat_minor": 5
}
